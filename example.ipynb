{
  "nbformat": 4,
  "nbformat_minor": 0,
  "metadata": {
    "colab": {
      "provenance": [],
      "authorship_tag": "ABX9TyORgpgwo77Ljjq6UVmi01Yx",
      "include_colab_link": true
    },
    "kernelspec": {
      "name": "python3",
      "display_name": "Python 3"
    },
    "language_info": {
      "name": "python"
    }
  },
  "cells": [
    {
      "cell_type": "markdown",
      "metadata": {
        "id": "view-in-github",
        "colab_type": "text"
      },
      "source": [
        "<a href=\"https://colab.research.google.com/github/XShao0062/super-rotary-phone/blob/main/example.ipynb\" target=\"_parent\"><img src=\"https://colab.research.google.com/assets/colab-badge.svg\" alt=\"Open In Colab\"/></a>"
      ]
    },
    {
      "cell_type": "code",
      "execution_count": null,
      "metadata": {
        "id": "W3OhDMIQaqQ2"
      },
      "outputs": [],
      "source": [
        "# Determine Andromeda location in ra/dec degrees\n",
        "\n",
        "# from wikipedia\n",
        "ra = '00:42:44.3'\n",
        "dec = '41:16:09'\n",
        "\n",
        "# convert to decimal degrees\n",
        "from math import *\n",
        "\n",
        "d, m, s = dec.split(':')\n",
        "dec = int(d)+int(m)/60+float(s)/3600\n",
        "\n",
        "h, m, s = ra.split(':')\n",
        "ra = 15*(int(h)+int(m)/60+float(s)/3600)\n",
        "ra = ra/cos(dec*pi/180)\n",
        "\n",
        "nsrc = 1_000_000\n",
        "\n",
        "# make 1000 stars within 1 degree of Andromeda\n",
        "from random import *\n",
        "ras = []\n",
        "decs = []\n",
        "for i in range(nsrc):\n",
        "    ras.append(ra + uniform(-1,1))\n",
        "    decs.append(dec + uniform(-1,1))\n",
        "\n",
        "print(1)\n",
        "\n",
        "# now write these to a csv file for use by my other program\n",
        "f = open('/content/drive/My Drive/ADACSECRPythonWorkshop/catalog.csv','w')\n",
        "print(\"id,ra,dec\", file=f)\n",
        "for i in range(nsrc):\n",
        "    print(\"{0:07d}, {1:12f}, {2:12f}\".format(i, ras[i], decs[i]), file=f)"
      ]
    },
    {
      "cell_type": "code",
      "source": [],
      "metadata": {
        "id": "x6qT1rs1a_09"
      },
      "execution_count": null,
      "outputs": []
    },
    {
      "cell_type": "code",
      "source": [],
      "metadata": {
        "id": "gg1ZZOwsa_3l"
      },
      "execution_count": null,
      "outputs": []
    },
    {
      "cell_type": "code",
      "source": [],
      "metadata": {
        "id": "YtKfr5xBa_59"
      },
      "execution_count": null,
      "outputs": []
    },
    {
      "cell_type": "code",
      "source": [],
      "metadata": {
        "id": "Z-8xxMyQa_8t"
      },
      "execution_count": null,
      "outputs": []
    },
    {
      "cell_type": "code",
      "source": [],
      "metadata": {
        "id": "4JutSgo-a__V"
      },
      "execution_count": null,
      "outputs": []
    },
    {
      "cell_type": "code",
      "source": [],
      "metadata": {
        "id": "TlL4cb_xbAB4"
      },
      "execution_count": null,
      "outputs": []
    }
  ]
}