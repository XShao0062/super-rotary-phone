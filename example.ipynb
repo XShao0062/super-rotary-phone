{
  "nbformat": 4,
  "nbformat_minor": 0,
  "metadata": {
    "colab": {
      "provenance": [],
      "authorship_tag": "ABX9TyNj0GrTXKFZTQcxVuFgX3R+",
      "include_colab_link": true
    },
    "kernelspec": {
      "name": "python3",
      "display_name": "Python 3"
    },
    "language_info": {
      "name": "python"
    }
  },
  "cells": [
    {
      "cell_type": "markdown",
      "metadata": {
        "id": "view-in-github",
        "colab_type": "text"
      },
      "source": [
        "<a href=\"https://colab.research.google.com/github/XShao0062/super-rotary-phone/blob/main/example.ipynb\" target=\"_parent\"><img src=\"https://colab.research.google.com/assets/colab-badge.svg\" alt=\"Open In Colab\"/></a>"
      ]
    },
    {
      "cell_type": "code",
      "execution_count": null,
      "metadata": {
        "id": "W3OhDMIQaqQ2"
      },
      "outputs": [],
      "source": [
        "\"\"\"Determine Andromeda location in ra/dec degrees\"\"\"\n",
        "\n",
        "from math import cos, pi\n",
        "from random import uniform\n",
        "\n",
        "NSRC = 1_000_000\n",
        "# from wikipedia\n",
        "RA = '00:42:44.3'\n",
        "DEC = '41:16:09'\n",
        "\n",
        "def make_positions():\n",
        "  # convert to decimal degrees\n",
        "  d, m, s = DEC.split(':')\n",
        "  DEC = int(d)+int(m)/60+float(s)/3600\n",
        "\n",
        "  h, m, s = RA.split(':')\n",
        "  RA = 15*(int(h)+int(m)/60+float(s)/3600)\n",
        "  RA = RA/cos(DEC*pi/180)\n",
        "\n",
        "  # make 1000 stars within 1 degree of Andromeda\n",
        "\n",
        "  ras = []\n",
        "  decs = []\n",
        "  for i in range(NSRC):\n",
        "    ras.append(RA + uniform(-1,1))\n",
        "    decs.append(DEC + uniform(-1,1))\n",
        "  return ras, decs\n",
        "\n",
        "def save_positions():\n",
        "  # now write these to a csv file for use by my other program\n",
        "  with open('/content/drive/My Drive/ADACSECRPythonWorkshop/catalog.csv','w', encoding='utf8') as f:\n",
        "    print(\"id,ra,dec\", file=f)\n",
        "    for i in range(NSRC):\n",
        "      print(f\"{i:07d}, {ras[i]:12f}, {decs[i]:12f}\", file=f)\n",
        "\n",
        "def main():\n",
        "  ras, decs = make_positions()\n",
        "  save_positions()\n",
        "\n",
        "if __name__ = \"__main__\":\n",
        "  main()"
      ]
    },
    {
      "cell_type": "code",
      "source": [],
      "metadata": {
        "id": "x6qT1rs1a_09"
      },
      "execution_count": null,
      "outputs": []
    },
    {
      "cell_type": "code",
      "source": [],
      "metadata": {
        "id": "gg1ZZOwsa_3l"
      },
      "execution_count": null,
      "outputs": []
    },
    {
      "cell_type": "code",
      "source": [],
      "metadata": {
        "id": "YtKfr5xBa_59"
      },
      "execution_count": null,
      "outputs": []
    },
    {
      "cell_type": "code",
      "source": [],
      "metadata": {
        "id": "Z-8xxMyQa_8t"
      },
      "execution_count": null,
      "outputs": []
    },
    {
      "cell_type": "code",
      "source": [],
      "metadata": {
        "id": "4JutSgo-a__V"
      },
      "execution_count": null,
      "outputs": []
    },
    {
      "cell_type": "code",
      "source": [],
      "metadata": {
        "id": "TlL4cb_xbAB4"
      },
      "execution_count": null,
      "outputs": []
    }
  ]
}